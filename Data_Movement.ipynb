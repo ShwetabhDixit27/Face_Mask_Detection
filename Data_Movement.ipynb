{
 "cells": [
  {
   "cell_type": "code",
   "execution_count": 1,
   "id": "24848262",
   "metadata": {},
   "outputs": [],
   "source": [
    "import shutil"
   ]
  },
  {
   "cell_type": "code",
   "execution_count": 7,
   "id": "1ce7d091",
   "metadata": {},
   "outputs": [],
   "source": [
    "dst=\"/Users/shwetabh/Desktop/Incorrect_mask/\"\n",
    "src=\"/Users/shwetabh/Downloads/images/\""
   ]
  },
  {
   "cell_type": "code",
   "execution_count": null,
   "id": "9680a5a4",
   "metadata": {},
   "outputs": [],
   "source": [
    "/Users/shwetabh/Desktop/images/File4.jpg"
   ]
  },
  {
   "cell_type": "raw",
   "id": "b035a2bf",
   "metadata": {},
   "source": [
    "for i in range(2,38000,4):\n",
    "    \n",
    "    shutil.move(src=src+'File'+str(i)+'.jpg',dst=dst)"
   ]
  }
 ],
 "metadata": {
  "kernelspec": {
   "display_name": "Python 3",
   "language": "python",
   "name": "python3"
  },
  "language_info": {
   "codemirror_mode": {
    "name": "ipython",
    "version": 3
   },
   "file_extension": ".py",
   "mimetype": "text/x-python",
   "name": "python",
   "nbconvert_exporter": "python",
   "pygments_lexer": "ipython3",
   "version": "3.8.8"
  }
 },
 "nbformat": 4,
 "nbformat_minor": 5
}
